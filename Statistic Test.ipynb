{
 "cells": [
  {
   "cell_type": "markdown",
   "metadata": {},
   "source": [
    "# Hypothesis test\n",
    "\n",
    "In this notebbok we are going to review a statistical topic, the hypothesis testing. For this, we are going to use as guide an article from _Towards Data Science_. You can find it in the next link: \n",
    "    \n",
    "    https://towardsdatascience.com/three-common-hypothesis-tests-all-data-scientists-should-know-6204067a9ced\n",
    " \n",
    " Before any code, we present the process to validate an hypothesis:\n",
    " \n",
    " 1. Assume the inference is not true on the population, this is the null hypothesis.\n",
    " 2. Calculate the statistic of the inference from the sample. This refers to a mean, a proportion, etc.\n",
    " 3. Understand the expected distribution of the sampling error around the statistic, this will help to determine which formula has to be used to validate the hypothesis.\n",
    " 4. Use the distribution to understand  the maximum likelihood fo your sample statistic being consiste with the null hypothesis.\n",
    " 5. Use _alpha_ to make a binary decision to accept or reject the null hypothesis.\n",
    " \n",
    " \n",
    " "
   ]
  },
  {
   "cell_type": "code",
   "execution_count": 1,
   "metadata": {},
   "outputs": [],
   "source": [
    "import pandas as pd\n",
    "from scipy import stats\n",
    "# get data\n",
    "url = \"http://peopleanalytics-regression-book.org/data/salespeople.csv\"\n",
    "salespeople = pd.read_csv(url)"
   ]
  },
  {
   "cell_type": "code",
   "execution_count": 2,
   "metadata": {
    "scrolled": false
   },
   "outputs": [
    {
     "data": {
      "text/html": [
       "<div>\n",
       "<style scoped>\n",
       "    .dataframe tbody tr th:only-of-type {\n",
       "        vertical-align: middle;\n",
       "    }\n",
       "\n",
       "    .dataframe tbody tr th {\n",
       "        vertical-align: top;\n",
       "    }\n",
       "\n",
       "    .dataframe thead th {\n",
       "        text-align: right;\n",
       "    }\n",
       "</style>\n",
       "<table border=\"1\" class=\"dataframe\">\n",
       "  <thead>\n",
       "    <tr style=\"text-align: right;\">\n",
       "      <th></th>\n",
       "      <th>promoted</th>\n",
       "      <th>sales</th>\n",
       "      <th>customer_rate</th>\n",
       "      <th>performance</th>\n",
       "    </tr>\n",
       "  </thead>\n",
       "  <tbody>\n",
       "    <tr>\n",
       "      <td>0</td>\n",
       "      <td>0</td>\n",
       "      <td>594.0</td>\n",
       "      <td>3.94</td>\n",
       "      <td>2.0</td>\n",
       "    </tr>\n",
       "    <tr>\n",
       "      <td>1</td>\n",
       "      <td>0</td>\n",
       "      <td>446.0</td>\n",
       "      <td>4.06</td>\n",
       "      <td>3.0</td>\n",
       "    </tr>\n",
       "    <tr>\n",
       "      <td>2</td>\n",
       "      <td>1</td>\n",
       "      <td>674.0</td>\n",
       "      <td>3.83</td>\n",
       "      <td>4.0</td>\n",
       "    </tr>\n",
       "    <tr>\n",
       "      <td>3</td>\n",
       "      <td>0</td>\n",
       "      <td>525.0</td>\n",
       "      <td>3.62</td>\n",
       "      <td>2.0</td>\n",
       "    </tr>\n",
       "    <tr>\n",
       "      <td>4</td>\n",
       "      <td>1</td>\n",
       "      <td>657.0</td>\n",
       "      <td>4.40</td>\n",
       "      <td>3.0</td>\n",
       "    </tr>\n",
       "  </tbody>\n",
       "</table>\n",
       "</div>"
      ],
      "text/plain": [
       "   promoted  sales  customer_rate  performance\n",
       "0         0  594.0           3.94          2.0\n",
       "1         0  446.0           4.06          3.0\n",
       "2         1  674.0           3.83          4.0\n",
       "3         0  525.0           3.62          2.0\n",
       "4         1  657.0           4.40          3.0"
      ]
     },
     "execution_count": 2,
     "metadata": {},
     "output_type": "execute_result"
    }
   ],
   "source": [
    "salespeople.head()"
   ]
  },
  {
   "cell_type": "markdown",
   "metadata": {},
   "source": [
    "### Welch's test\n",
    "\n",
    "* Used to determine if two population has different means. In this case, we will look the two sample version\n",
    "* We expect that the population distribution is normal, so we'll use a t-test which is an approximate of the normal distribution.\n",
    "* To use the t distribution we need the degrees of freedom wich can be determined with the Welch equation. Also, we need the standar deviation of the  mean difference."
   ]
  },
  {
   "cell_type": "code",
   "execution_count": 3,
   "metadata": {},
   "outputs": [
    {
     "name": "stdout",
     "output_type": "stream",
     "text": [
      "Ttest_indResult(statistic=4.629477606844271, pvalue=5.466221730788519e-06)\n"
     ]
    }
   ],
   "source": [
    "#get sales for top and bottom performers\n",
    "perf1 = salespeople[salespeople[\"performance\"] == 1].sales\n",
    "perf4 = salespeople[salespeople[\"performance\"] == 4].sales\n",
    "\n",
    "#welch's independent t-test with unequal variance\n",
    "ttest = stats.ttest_ind(perf4,perf1,equal_var=False,alternative=\"greater\")\n",
    "\n",
    "print(ttest)"
   ]
  },
  {
   "cell_type": "markdown",
   "metadata": {},
   "source": [
    "### Correlation test\n",
    "* Used to find if there is a correlation between two numeric variables. \n",
    "* For example for this dataset we could ask if there is a non-zero correlation between `sales` and `customer_rate` in our `salespeople` dataset. As usual we assume the null hypothesis: that there is a zero correlation between these variables. We then calculate the sample correlation:"
   ]
  },
  {
   "cell_type": "code",
   "execution_count": 5,
   "metadata": {},
   "outputs": [
    {
     "name": "stdout",
     "output_type": "stream",
     "text": [
      "(0.3378050448586781, 8.64795221209082e-11)\n"
     ]
    }
   ],
   "source": [
    "import numpy as np\n",
    "\n",
    "#calculate correlation and p-value\n",
    "sales = salespeople.sales[~np.isnan(salespeople.sales)]\n",
    "cust_rate = salespeople.customer_rate[~np.isnan(salespeople.customer_rate)]\n",
    "\n",
    "cor = stats.pearsonr(sales,cust_rate)\n",
    "print(cor)\n"
   ]
  },
  {
   "cell_type": "markdown",
   "metadata": {},
   "source": [
    "### Chi-square test \n",
    "* Like the correlation test but for cathegorical variables.\n",
    "* In this case we can ask if there is a differente between the proportion of salespeople who are promoted between the different performance categories\n",
    "* The null hypothesis is that the proportion of salespeople who are promoted is the same across all the performance categories.\n",
    "\n",
    "First, we have to create a contingency table for `performance` and `promotion`.\n"
   ]
  },
  {
   "cell_type": "code",
   "execution_count": 6,
   "metadata": {},
   "outputs": [
    {
     "data": {
      "text/html": [
       "<div>\n",
       "<style scoped>\n",
       "    .dataframe tbody tr th:only-of-type {\n",
       "        vertical-align: middle;\n",
       "    }\n",
       "\n",
       "    .dataframe tbody tr th {\n",
       "        vertical-align: top;\n",
       "    }\n",
       "\n",
       "    .dataframe thead th {\n",
       "        text-align: right;\n",
       "    }\n",
       "</style>\n",
       "<table border=\"1\" class=\"dataframe\">\n",
       "  <thead>\n",
       "    <tr style=\"text-align: right;\">\n",
       "      <th>performance</th>\n",
       "      <th>1.0</th>\n",
       "      <th>2.0</th>\n",
       "      <th>3.0</th>\n",
       "      <th>4.0</th>\n",
       "    </tr>\n",
       "    <tr>\n",
       "      <th>promoted</th>\n",
       "      <th></th>\n",
       "      <th></th>\n",
       "      <th></th>\n",
       "      <th></th>\n",
       "    </tr>\n",
       "  </thead>\n",
       "  <tbody>\n",
       "    <tr>\n",
       "      <td>0</td>\n",
       "      <td>50</td>\n",
       "      <td>85</td>\n",
       "      <td>77</td>\n",
       "      <td>25</td>\n",
       "    </tr>\n",
       "    <tr>\n",
       "      <td>1</td>\n",
       "      <td>10</td>\n",
       "      <td>25</td>\n",
       "      <td>48</td>\n",
       "      <td>30</td>\n",
       "    </tr>\n",
       "  </tbody>\n",
       "</table>\n",
       "</div>"
      ],
      "text/plain": [
       "performance  1.0  2.0  3.0  4.0\n",
       "promoted                       \n",
       "0             50   85   77   25\n",
       "1             10   25   48   30"
      ]
     },
     "execution_count": 6,
     "metadata": {},
     "output_type": "execute_result"
    }
   ],
   "source": [
    "contingency = pd.crosstab(salespeople.promoted,salespeople.performance)\n",
    "contingency"
   ]
  },
  {
   "cell_type": "markdown",
   "metadata": {},
   "source": [
    "Now we assume that there was perfect equality across all the categories, the expected value. This is calculated by using the overall proportion of promoted salespeople and the applying this proportion to the number of sales people in each category, the same for the not promoted salespeople. \n",
    "\n",
    "For python we only use the `stats.chi2_contingency` function"
   ]
  },
  {
   "cell_type": "code",
   "execution_count": 7,
   "metadata": {},
   "outputs": [
    {
     "name": "stdout",
     "output_type": "stream",
     "text": [
      "(25.895405268094862, 1.0030629464566802e-05, 3, array([[40.62857143, 74.48571429, 84.64285714, 37.24285714],\n",
      "       [19.37142857, 35.51428571, 40.35714286, 17.75714286]]))\n"
     ]
    }
   ],
   "source": [
    "chi2_test = stats.chi2_contingency(contingency)\n",
    "print(chi2_test)"
   ]
  },
  {
   "cell_type": "code",
   "execution_count": null,
   "metadata": {},
   "outputs": [],
   "source": []
  }
 ],
 "metadata": {
  "kernelspec": {
   "display_name": "Python 3",
   "language": "python",
   "name": "python3"
  },
  "language_info": {
   "codemirror_mode": {
    "name": "ipython",
    "version": 3
   },
   "file_extension": ".py",
   "mimetype": "text/x-python",
   "name": "python",
   "nbconvert_exporter": "python",
   "pygments_lexer": "ipython3",
   "version": "3.7.4"
  }
 },
 "nbformat": 4,
 "nbformat_minor": 2
}
